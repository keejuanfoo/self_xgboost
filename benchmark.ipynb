{
 "cells": [
  {
   "cell_type": "code",
   "execution_count": 7,
   "metadata": {},
   "outputs": [],
   "source": [
    "import numpy as np\n",
    "import pandas as pd\n",
    "import re\n",
    "from sklearn.metrics import roc_auc_score"
   ]
  },
  {
   "cell_type": "code",
   "execution_count": 8,
   "metadata": {},
   "outputs": [],
   "source": [
    "test_df = pd.read_csv('airline_test.csv')"
   ]
  },
  {
   "cell_type": "code",
   "execution_count": 9,
   "metadata": {},
   "outputs": [],
   "source": [
    "def prettify_column(col_name):\n",
    "    # Replace underscores with space\n",
    "    col_name = col_name.replace('_', ' ')\n",
    "    # Add space between camelCase\n",
    "    col_name = re.sub(r'(?<=[a-z])(?=[A-Z])', ' ', col_name)\n",
    "    # Title-case everything\n",
    "    return col_name.title()\n",
    "\n",
    "def preprocess(df):\n",
    "    df_encoded = pd.get_dummies(df, drop_first=True)\n",
    "    df_encoded.drop(df.columns[:2], axis=1, inplace=True)\n",
    "    df_encoded.columns = [prettify_column(col) for col in df_encoded.columns]\n",
    "    X = df_encoded.drop(columns=['Satisfaction Satisfied'])\n",
    "    y = df_encoded[['Satisfaction Satisfied']]\n",
    "    return X, y"
   ]
  },
  {
   "cell_type": "code",
   "execution_count": 10,
   "metadata": {},
   "outputs": [],
   "source": [
    "X_test, y_test = preprocess(test_df)"
   ]
  },
  {
   "cell_type": "code",
   "execution_count": 11,
   "metadata": {},
   "outputs": [],
   "source": [
    "cpp_plane_probs_df = pd.read_csv(\"probabilities3.csv\", header=None)"
   ]
  },
  {
   "cell_type": "code",
   "execution_count": 12,
   "metadata": {},
   "outputs": [
    {
     "name": "stdout",
     "output_type": "stream",
     "text": [
      "AUC Score: 0.9636\n"
     ]
    }
   ],
   "source": [
    "cpp_auc_score = roc_auc_score(y_test, cpp_plane_probs_df)\n",
    "print(f\"AUC Score: {cpp_auc_score:.4f}\")"
   ]
  }
 ],
 "metadata": {
  "kernelspec": {
   "display_name": "machinelearning",
   "language": "python",
   "name": "python3"
  },
  "language_info": {
   "codemirror_mode": {
    "name": "ipython",
    "version": 3
   },
   "file_extension": ".py",
   "mimetype": "text/x-python",
   "name": "python",
   "nbconvert_exporter": "python",
   "pygments_lexer": "ipython3",
   "version": "3.12.8"
  },
  "orig_nbformat": 4
 },
 "nbformat": 4,
 "nbformat_minor": 2
}
